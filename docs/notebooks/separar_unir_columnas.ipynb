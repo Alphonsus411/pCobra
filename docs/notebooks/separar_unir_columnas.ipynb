{
 "cells": [
  {
   "cell_type": "markdown",
   "metadata": {},
   "source": [
    "# Separar y unir columnas\n",
    "\n",
    "Ejemplo rápido con la biblioteca estándar de Cobra."
   ]
  },
  {
   "cell_type": "code",
   "execution_count": null,
   "metadata": {},
   "outputs": [],
   "source": [
    "from pcobra.standard_library import datos\n",
    "\n",
    "clientes = [\n",
    "    {\"cliente\": 1, \"nombre\": \"Ada\", \"zona\": \"Norte\", \"periodo\": \"2024-Q1\"},\n",
    "    {\"cliente\": 2, \"nombre\": \"Grace\", \"zona\": None, \"periodo\": \"2024-Q2\"},\n",
    "]\n",
    "\n",
    "clientes_unidos = datos.unir_columnas(\n",
    "    clientes,\n",
    "    [\"nombre\", \"zona\"],\n",
    "    \"nombre_zona\",\n",
    "    separador=\" - \",\n",
    "    omitir_nulos=False,\n",
    "    relleno=\"sin zona\",\n",
    "    eliminar_original=False,\n",
    ")\n",
    "\n",
    "clientes_separados = datos.separar_columna(\n",
    "    clientes_unidos,\n",
    "    \"periodo\",\n",
    "    en=[\"anio\", \"trimestre\"],\n",
    "    separador=\"-\",\n",
    "    eliminar_original=False,\n",
    ")\n",
    "\n",
    "clientes_separados\n"
   ]
  }
 ],
 "metadata": {
  "kernelspec": {
   "display_name": "Python 3",
   "language": "python",
   "name": "python3"
  },
  "language_info": {
   "name": "python",
   "version": "3.11"
  }
 },
 "nbformat": 4,
 "nbformat_minor": 5
}
