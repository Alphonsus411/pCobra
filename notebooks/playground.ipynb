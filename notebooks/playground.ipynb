{
 "cells": [
  {
   "cell_type": "markdown",
   "id": "8e3a074c",
   "metadata": {},
   "source": [
    "## Playground de Cobra\n",
    "Este cuaderno muestra cómo transpilar un programa de Cobra a Python y ejecutarlo."
   ]
  },
  {
   "cell_type": "code",
   "execution_count": null,
   "id": "c5187733",
   "metadata": {},
   "outputs": [],
   "source": [
    "%%writefile hola.cobra\n",
    "imprimir(\"Hola desde Cobra\")"
   ]
  },
  {
   "cell_type": "code",
   "execution_count": null,
   "id": "d6829df4",
   "metadata": {},
   "outputs": [],
   "source": [
    "!cobra transpilar hola.cobra --destino=python -o hola.py"
   ]
  },
  {
   "cell_type": "code",
   "execution_count": null,
   "id": "a9a6af22",
   "metadata": {},
   "outputs": [],
   "source": [
    "!cat hola.py"
   ]
  },
  {
   "cell_type": "code",
   "execution_count": null,
   "id": "23d2e2ef",
   "metadata": {},
   "outputs": [],
   "source": [
    "!python hola.py"
   ]
  }
 ],
 "metadata": {},
 "nbformat": 4,
 "nbformat_minor": 5
}
