{
 "cells": [
  {
   "cell_type": "markdown",
   "id": "4c231d62",
   "metadata": {},
   "source": [
    "## Bioinformática"
   ]
  },
  {
   "cell_type": "code",
   "execution_count": null,
   "id": "113e7ccb",
   "metadata": {},
   "outputs": [],
   "source": [
    "!cat ../../examples/casos_reales/bioinformatica/ejemplo_gc.co"
   ]
  },
  {
   "cell_type": "code",
   "execution_count": null,
   "id": "400959bc",
   "metadata": {},
   "outputs": [],
   "source": [
    "with open('secuencia.fasta','w') as f: f.write('>seq\n",
    "GATTACA')"
   ]
  },
  {
   "cell_type": "code",
   "execution_count": null,
   "id": "0a1ec8af",
   "metadata": {},
   "outputs": [],
   "source": [
    "!PYTHONPATH='..:../src:../backend' python ../../scripts/compile.py ../../examples/casos_reales/bioinformatica/ejemplo_gc.co"
   ]
  },
  {
   "cell_type": "code",
   "execution_count": null,
   "id": "9656f1c5",
   "metadata": {},
   "outputs": [],
   "source": [
    "!PYTHONPATH='..:../src:../backend' python ejemplo_gc.py"
   ]
  }
 ],
 "metadata": {},
 "nbformat": 4,
 "nbformat_minor": 5
}
