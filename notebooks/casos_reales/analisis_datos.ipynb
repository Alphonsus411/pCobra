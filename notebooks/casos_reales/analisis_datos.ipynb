{
 "cells": [
  {
   "cell_type": "markdown",
   "id": "15e0f99f",
   "metadata": {},
   "source": [
    "## Análisis de Datos"
   ]
  },
  {
   "cell_type": "code",
   "execution_count": null,
   "id": "c43b3cc7",
   "metadata": {},
   "outputs": [],
   "source": [
    "!cat ../../casos_reales/analisis_datos/estadisticas.cob"
   ]
  },
  {
   "cell_type": "code",
   "execution_count": null,
   "id": "dd7da4b2",
   "metadata": {},
   "outputs": [],
   "source": [
    "import pandas as pd\n",
    "df = pd.DataFrame({'valor':[1,2,3]})\n",
    "df.to_csv('datos.csv', index=False)"
   ]
  },
  {
   "cell_type": "code",
   "execution_count": null,
   "id": "4c14fa28",
   "metadata": {},
   "outputs": [],
   "source": [
    "!PYTHONPATH='..:../backend/src:../backend' python ../../scripts/compile.py ../../casos_reales/analisis_datos/estadisticas.cob"
   ]
  },
  {
   "cell_type": "code",
   "execution_count": null,
   "id": "4164d7d1",
   "metadata": {},
   "outputs": [],
   "source": [
    "!PYTHONPATH='..:../backend/src:../backend' python estadisticas.py"
   ]
  }
 ],
 "metadata": {},
 "nbformat": 4,
 "nbformat_minor": 5
}
