{
 "cells": [
  {
   "cell_type": "markdown",
   "id": "abd91434",
   "metadata": {},
   "source": [
    "## Inteligencia Artificial"
   ]
  },
  {
   "cell_type": "code",
   "execution_count": null,
   "id": "98b1333b",
   "metadata": {},
   "outputs": [],
   "source": [
    "!cat ../../examples/casos_reales/inteligencia_artificial/modelo_ia.co"
   ]
  },
  {
   "cell_type": "code",
   "execution_count": null,
   "id": "4b0d6a89",
   "metadata": {},
   "outputs": [],
   "source": [
    "import numpy as np\n",
    "from sklearn.linear_model import LogisticRegression\n",
    "import pickle\n",
    "model = LogisticRegression().fit([[0,0],[1,1]],[0,1])\n",
    "pickle.dump(model, open('modelo.pkl','wb'))"
   ]
  },
  {
   "cell_type": "code",
   "execution_count": null,
   "id": "3459075f",
   "metadata": {},
   "outputs": [],
   "source": [
    "!PYTHONPATH='..:../src' python ../../scripts/compile.py ../../examples/casos_reales/inteligencia_artificial/modelo_ia.co"
   ]
  },
  {
   "cell_type": "code",
   "execution_count": null,
   "id": "e2ff4716",
   "metadata": {},
   "outputs": [],
   "source": [
    "!PYTHONPATH='..:../src' python modelo_ia.py"
   ]
  }
 ],
 "metadata": {},
 "nbformat": 4,
 "nbformat_minor": 5
}