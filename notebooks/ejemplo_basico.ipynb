{
 "cells": [
  {
   "cell_type": "markdown",
   "id": "3e1b716b",
   "metadata": {},
   "source": [
    "## ¿Qué es Cobra?\n",
    "Cobra es un lenguaje de programación escrito en español que permite transpilar su código a varios lenguajes como Python, JavaScript o C++."
   ]
  },
  {
   "cell_type": "code",
   "execution_count": null,
   "id": "acdc2c9e",
   "metadata": {},
   "outputs": [],
   "source": [
    "!cat ../examples/tutorial_basico/hola_mundo.cob"
   ]
  },
  {
   "cell_type": "code",
   "execution_count": null,
   "id": "c56966b2",
   "metadata": {},
   "outputs": [],
   "source": [
    "!PYTHONPATH='..:../backend/src:../backend' python ../examples/tutorial_basico/compile_manual.py > hola_mundo.py\n",
    "!cat hola_mundo.py"
   ]
  },
  {
   "cell_type": "code",
   "execution_count": null,
   "id": "067b5a70",
   "metadata": {},
   "outputs": [],
   "source": [
    "!PYTHONPATH='..:../backend/src:../backend' python hola_mundo.py"
   ]
  },
  {
   "cell_type": "markdown",
   "id": "06118a26",
   "metadata": {},
   "source": [
    "Para ejecutar este cuaderno puedes iniciar Jupyter con el comando:\n",
    "\n",
    "```bash\n",
    "cobra jupyter\n",
    "```\n"
   ]
  }
 ],
 "metadata": {},
 "nbformat": 4,
 "nbformat_minor": 5
}
