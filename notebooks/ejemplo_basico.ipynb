{
 "cells": [
  {
   "cell_type": "markdown",
   "id": "3e1b716b",
   "metadata": {},
   "source": [
    "## ¿Qué es Cobra?\n",
    "Cobra es un lenguaje de programación escrito en español que permite transpilar su código a varios lenguajes como Python, JavaScript o C++."
   ]
  },
  {
   "cell_type": "code",
   "execution_count": null,
   "id": "acdc2c9e",
   "metadata": {},
   "outputs": [],
   "source": [
    "!cat ../examples/tutorial_basico/hola_mundo.co"
   ]
  },
  {
   "cell_type": "code",
   "execution_count": null,
   "id": "c56966b2",
   "metadata": {},
   "outputs": [],
   "source": [
    "!PYTHONPATH='..:../src' python ../examples/tutorial_basico/compile_manual.py > hola_mundo.py\n",
    "!cat hola_mundo.py"
   ]
  },
  {
   "cell_type": "code",
   "execution_count": null,
   "id": "067b5a70",
   "metadata": {},
   "outputs": [],
   "source": [
    "!PYTHONPATH='..:../src' python hola_mundo.py"
   ]
  },
  {
   "cell_type": "markdown",
   "id": "06118a26",
   "metadata": {},
   "source": [
    "Para ejecutar este cuaderno puedes iniciar Jupyter con el comando:\n",
    "\n",
    "```bash\n",
    "cobra jupyter\n",
    "```\n"
   ]
  },
  {
   "cell_type": "markdown",
   "metadata": {},
   "source": [
    "## Interfaz de consola con Rich\n",
    "Puedes aprovechar `standard_library.interfaz` para mostrar tablas y barras de progreso ",
    "directamente desde un cuaderno cuando ejecutes código Cobra vía Python."
   ]
  },
  {
   "cell_type": "code",
   "execution_count": null,
   "metadata": {},
   "outputs": [],
   "source": [
    "from standard_library import mostrar_tabla, barra_progreso, imprimir_aviso\n",
    "referentes = [\n",
    "    {'Nombre': 'Ada', 'Rol': 'Pionera'},\n",
    "    {'Nombre': 'Grace', 'Rol': 'Arquitecta'},\n",
    "]\n\n",
    "mostrar_tabla(referentes, titulo='Referentes')\n",
    "imprimir_aviso('Tabla generada', nivel='exito')\n\n",
    "with barra_progreso(total=3, descripcion='Preparando ejemplos') as (progreso, tarea):\n",
    "    for _ in range(3):\n",
    "        progreso.advance(tarea)\n"
   ]
  }
 ],
 "metadata": {},
 "nbformat": 4,
 "nbformat_minor": 5
}
