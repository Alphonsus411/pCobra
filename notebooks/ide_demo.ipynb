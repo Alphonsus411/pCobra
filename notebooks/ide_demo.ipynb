{
 "cells": [
  {
   "cell_type": "markdown",
   "id": "0391cfc0",
   "metadata": {},
   "source": [
    "## Demo de kernel en modo transpiler\n",
    "Este cuaderno se ejecuta con `COBRA_JUPYTER_PYTHON=1` para que el kernel transpile a Python."
   ]
  },
  {
   "cell_type": "code",
   "execution_count": null,
   "id": "87aa7482",
   "metadata": {},
   "outputs": [],
   "source": [
    "x = 2\n",
    "imprimir(x * 3)"
   ]
  },
  {
   "cell_type": "code",
   "execution_count": null,
   "id": "3ca0c610",
   "metadata": {},
   "outputs": [],
   "source": [
    "func suma(a, b):\n",
    "    retornar a + b\n",
    "fin\n",
    "imprimir(suma(5, 7))"
   ]
  }
 ],
 "metadata": {
  "kernelspec": {
   "display_name": "Cobra",
   "language": "cobra",
   "name": "cobra"
  }
 },
 "nbformat": 4,
 "nbformat_minor": 5
}
